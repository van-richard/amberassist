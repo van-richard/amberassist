{
 "cells": [
  {
   "cell_type": "markdown",
   "id": "8735a78c-acfc-47cb-a8c4-7b5e2ed31a80",
   "metadata": {},
   "source": [
    "# pca"
   ]
  },
  {
   "cell_type": "code",
   "execution_count": 1,
   "id": "3c262832-e462-4b05-adad-6dc9535f6fa4",
   "metadata": {},
   "outputs": [],
   "source": [
    "import os\n",
    "import sys\n",
    "from glob import glob\n",
    "import numpy as np\n",
    "import pandas as pd\n",
    "import matplotlib.pyplot as plt\n",
    "# plt.style.use('~/Scripts/bin/v.mplstyle')\n",
    "\n",
    "import pytraj as pt"
   ]
  },
  {
   "cell_type": "code",
   "execution_count": 2,
   "id": "60c9e82d-c4a3-4b8c-a961-7c35805e296d",
   "metadata": {},
   "outputs": [
    {
     "ename": "NameError",
     "evalue": "name 'x' is not defined",
     "output_type": "error",
     "traceback": [
      "\u001b[0;31m---------------------------------------------------------------------------\u001b[0m",
      "\u001b[0;31mNameError\u001b[0m                                 Traceback (most recent call last)",
      "Cell \u001b[0;32mIn[2], line 1\u001b[0m\n\u001b[0;32m----> 1\u001b[0m plt\u001b[38;5;241m.\u001b[39mscatter(\u001b[43mx\u001b[49m, y, marker\u001b[38;5;241m=\u001b[39m\u001b[38;5;124m'\u001b[39m\u001b[38;5;124mo\u001b[39m\u001b[38;5;124m'\u001b[39m, c\u001b[38;5;241m=\u001b[39m\u001b[38;5;28mrange\u001b[39m(traj\u001b[38;5;241m.\u001b[39mn_frames), alpha\u001b[38;5;241m=\u001b[39m\u001b[38;5;241m0.5\u001b[39m)    \n\u001b[1;32m      3\u001b[0m \u001b[38;5;66;03m# Percent Variance \u001b[39;00m\n\u001b[1;32m      4\u001b[0m pc1 \u001b[38;5;241m=\u001b[39m (data[\u001b[38;5;241m1\u001b[39m][\u001b[38;5;241m0\u001b[39m][\u001b[38;5;241m0\u001b[39m] \u001b[38;5;241m/\u001b[39m np\u001b[38;5;241m.\u001b[39msum(data[\u001b[38;5;241m1\u001b[39m][\u001b[38;5;241m0\u001b[39m])) \u001b[38;5;241m*\u001b[39m \u001b[38;5;241m100\u001b[39m \n",
      "\u001b[0;31mNameError\u001b[0m: name 'x' is not defined"
     ]
    }
   ],
   "source": [
    "plt.scatter(x, y, marker='o', c=range(traj.n_frames), alpha=0.5)    \n",
    "\n",
    "# Percent Variance \n",
    "pc1 = (data[1][0][0] / np.sum(data[1][0])) * 100 \n",
    "pc2 = (data[1][0][1] / np.sum(data[1][0])) * 100 \n",
    "\n",
    "plt.xlabel('PC1 (' + str(np.round(pc1, 1)) + ' %)')\n",
    "plt.ylabel('PC2 (' + str(np.round(pc2, 1)) + ' %)')\n",
    "\n",
    "plt.xlim(-60,60)\n",
    "plt.ylim(-60,60)\n",
    "cbar = plt.colorbar()\n",
    "cbar.set_label('Frame #') \n",
    "\n",
    "plt.savefig('img/pca-4ntds.png') # uncomment to save"
   ]
  },
  {
   "cell_type": "code",
   "execution_count": null,
   "id": "f6f460b3-c01e-4e21-89c2-dce69c0386ea",
   "metadata": {},
   "outputs": [],
   "source": [
    "fnames = sorted(glob('../1leader/?????'))\n",
    "fnames"
   ]
  },
  {
   "cell_type": "code",
   "execution_count": null,
   "id": "2d6a71fb-e818-444f-b4ec-2d517ac44677",
   "metadata": {},
   "outputs": [],
   "source": [
    "datas = []\n",
    "frames = []\n",
    "\n",
    "for i in range(len(fnames)):\n",
    "    path = str(fnames[i])\n",
    "    traj = pt.iterload(f'{path}/prod0?.nc', top=f'{path}/step3_pbcsetup_1264.parm7')\n",
    "    frames.append(traj.n_frames)\n",
    "    data = pt.pca(traj, mask='@CA', n_vecs=10)\n",
    "    datas.append(data)\n",
    "    proj = datas[0]\n",
    "    \n",
    "    x = proj[0] \n",
    "    y = proj[1] \n",
    "\n",
    "    if i == 2:\n",
    "        x = x * -1\n",
    "\n",
    "    ax.scatter(x, y, marker='o', c=range(traj.n_frames))\n",
    "    ax.set_title(fnames[i])\n",
    "    cbar = plt.colorbar()  \n",
    "    "
   ]
  },
  {
   "cell_type": "code",
   "execution_count": null,
   "id": "48ec5a5d-bf7a-4e27-b84d-1c727281aff3",
   "metadata": {},
   "outputs": [],
   "source": []
  }
 ],
 "metadata": {
  "kernelspec": {
   "display_name": "Python [conda env:ambertools23]",
   "language": "python",
   "name": "conda-env-ambertools23-py"
  },
  "language_info": {
   "codemirror_mode": {
    "name": "ipython",
    "version": 3
   },
   "file_extension": ".py",
   "mimetype": "text/x-python",
   "name": "python",
   "nbconvert_exporter": "python",
   "pygments_lexer": "ipython3",
   "version": "3.10.14"
  },
  "widgets": {
   "application/vnd.jupyter.widget-state+json": {
    "state": {},
    "version_major": 2,
    "version_minor": 0
   }
  }
 },
 "nbformat": 4,
 "nbformat_minor": 5
}
