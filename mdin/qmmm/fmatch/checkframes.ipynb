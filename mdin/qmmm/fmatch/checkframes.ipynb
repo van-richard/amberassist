{
 "cells": [
  {
   "cell_type": "code",
   "execution_count": 8,
   "id": "8a3ae5ac-0240-408c-9bf9-e756541a8ba6",
   "metadata": {},
   "outputs": [],
   "source": [
    "import os\n",
    "import sys\n",
    "from glob import glob\n",
    "import numpy as np "
   ]
  },
  {
   "cell_type": "code",
   "execution_count": 6,
   "id": "02cec6e5-91d9-4aa0-bbd1-48e48c0b4e90",
   "metadata": {},
   "outputs": [
    {
     "name": "stderr",
     "output_type": "stream",
     "text": [
      "\n",
      "KeyboardInterrupt\n",
      "\n"
     ]
    }
   ],
   "source": [
    "fnames = sorted(glob('../00/qmhub/qmmm.inp_????'))\n",
    "\n",
    "for i in range(len(fnames)):\n",
    "    fname = np.loadtxt(fnames[i], skiprows=0)\n",
    "    print(len(fname))"
   ]
  },
  {
   "cell_type": "code",
   "execution_count": null,
   "id": "00a59aeb-1a86-4300-ad6f-59df4166e9ca",
   "metadata": {},
   "outputs": [],
   "source": [
    "np.loadtxt(fnames[0], skiprows=0, usecols=75)"
   ]
  },
  {
   "cell_type": "code",
   "execution_count": null,
   "id": "058d6dfb-327a-4dc8-bbc8-90d902b08747",
   "metadata": {},
   "outputs": [],
   "source": []
  }
 ],
 "metadata": {
  "kernelspec": {
   "display_name": "Python [conda env:base] *",
   "language": "python",
   "name": "conda-base-py"
  },
  "language_info": {
   "codemirror_mode": {
    "name": "ipython",
    "version": 3
   },
   "file_extension": ".py",
   "mimetype": "text/x-python",
   "name": "python",
   "nbconvert_exporter": "python",
   "pygments_lexer": "ipython3",
   "version": "3.10.14"
  },
  "widgets": {
   "application/vnd.jupyter.widget-state+json": {
    "state": {},
    "version_major": 2,
    "version_minor": 0
   }
  }
 },
 "nbformat": 4,
 "nbformat_minor": 5
}
